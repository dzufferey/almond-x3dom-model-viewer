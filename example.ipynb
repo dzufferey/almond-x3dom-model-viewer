{
 "cells": [
  {
   "cell_type": "markdown",
   "metadata": {},
   "source": [
    "We need to import the library to get started.\n",
    "For the local option, so do not forget to run `sbt publishLocal` and remove the resolver."
   ]
  },
  {
   "cell_type": "code",
   "execution_count": null,
   "metadata": {},
   "outputs": [],
   "source": [
    "import coursierapi._\n",
    "interp.repositories() +:= MavenRepository.of(\"https://jitpack.io\")"
   ]
  },
  {
   "cell_type": "code",
   "execution_count": null,
   "metadata": {},
   "outputs": [],
   "source": [
    "import $ivy.`com.github.dzufferey::almond-x3dom-model-viewer:0.2.4-SNAPSHOT`"
   ]
  },
  {
   "cell_type": "markdown",
   "metadata": {},
   "source": [
    "Now we can do a simlpe example.\n",
    "The `Viewer.display` in `com.github.dzufferey.x3DomViewer` takes as argument and X3DOM description of a 3D object and display the object.\n",
    "To create this description, you can use the tags in `com.github.dzufferey.x3DomViewer.X3D`."
   ]
  },
  {
   "cell_type": "code",
   "execution_count": null,
   "metadata": {},
   "outputs": [],
   "source": [
    "import com.github.dzufferey.x3DomViewer._\n",
    "import scalatags.Text.all._\n",
    "\n",
    "Viewer.display(\n",
    "    X3D.shape(\n",
    "        X3D.sphere(X3D.radius := \"0.2\"),\n",
    "         X3D.appearance(X3D.material( X3D.emissiveColor := \"0.4 0.4 0.4\", X3D.diffuseColor := \"0.7 0.7 0.7\", X3D.specularColor := \"1 1 1\" ))\n",
    "    )\n",
    ")"
   ]
  },
  {
   "cell_type": "code",
   "execution_count": null,
   "metadata": {},
   "outputs": [],
   "source": []
  }
 ],
 "metadata": {
  "kernelspec": {
   "display_name": "Scala",
   "language": "scala",
   "name": "scala"
  },
  "language_info": {
   "codemirror_mode": "text/x-scala",
   "file_extension": ".sc",
   "mimetype": "text/x-scala",
   "name": "scala",
   "nbconvert_exporter": "script",
   "version": "2.13.14"
  }
 },
 "nbformat": 4,
 "nbformat_minor": 4
}
